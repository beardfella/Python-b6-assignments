{
 "cells": [
  {
   "cell_type": "markdown",
   "metadata": {},
   "source": [
    "# sum of first n natural numbers"
   ]
  },
  {
   "cell_type": "code",
   "execution_count": 13,
   "metadata": {},
   "outputs": [
    {
     "name": "stdout",
     "output_type": "stream",
     "text": [
      "enter the nth natural number for sum15\n",
      "the sum of first 15 natural number is  120\n"
     ]
    }
   ],
   "source": [
    "num = int(input(\"enter the nth natural number for sum\"))\n",
    "a = num\n",
    "sum = 0\n",
    "\n",
    "if num < 0 :\n",
    "    print(\"enter valid input\")\n",
    "else :\n",
    "    while num > 0 :\n",
    "        sum = sum + num\n",
    "        num = num - 1\n",
    "print(\"the sum of first\", a, \"natural number is \", sum)"
   ]
  },
  {
   "cell_type": "markdown",
   "metadata": {},
   "source": [
    "# Take an integer and check if prime or not"
   ]
  },
  {
   "cell_type": "code",
   "execution_count": 11,
   "metadata": {},
   "outputs": [
    {
     "name": "stdout",
     "output_type": "stream",
     "text": [
      "enter the number to check7\n",
      "the number 7 is a prime number\n"
     ]
    }
   ],
   "source": [
    "num = int(input(\"enter the number to check\"))\n",
    "a = num\n",
    "\n",
    "if num > 1:\n",
    "    for i in range(2,num):\n",
    "        if (num % i) == 0:\n",
    "            print(\"the number\". a, \"is not a prime number\")\n",
    "        else :\n",
    "            print(\"the number\", a, \"is a prime number\")\n",
    "            break\n",
    "else:\n",
    "    print(\"put number greater than 1\")"
   ]
  },
  {
   "cell_type": "code",
   "execution_count": 12,
   "metadata": {},
   "outputs": [
    {
     "name": "stdout",
     "output_type": "stream",
     "text": [
      "enter the number to check1\n",
      "put number greater than 1\n"
     ]
    }
   ],
   "source": [
    "num = int(input(\"enter the number to check\"))\n",
    "a = num\n",
    "\n",
    "if num > 1:\n",
    "    for i in range(2,num):\n",
    "        if (num % i) == 0:\n",
    "            print(\"the number\". a, \"is not a prime number\")\n",
    "        else :\n",
    "            print(\"the number\", a, \"is a prime number\")\n",
    "            break\n",
    "else:\n",
    "    print(\"put number greater than 1\")"
   ]
  }
 ],
 "metadata": {
  "kernelspec": {
   "display_name": "Python 3",
   "language": "python",
   "name": "python3"
  },
  "language_info": {
   "codemirror_mode": {
    "name": "ipython",
    "version": 3
   },
   "file_extension": ".py",
   "mimetype": "text/x-python",
   "name": "python",
   "nbconvert_exporter": "python",
   "pygments_lexer": "ipython3",
   "version": "3.7.6"
  }
 },
 "nbformat": 4,
 "nbformat_minor": 4
}
