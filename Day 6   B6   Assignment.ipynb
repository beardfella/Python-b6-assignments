{
 "cells": [
  {
   "cell_type": "markdown",
   "metadata": {},
   "source": [
    "# Assignment 1\n"
   ]
  },
  {
   "cell_type": "markdown",
   "metadata": {},
   "source": [
    "## take two lists \n",
    "### convert to a dictionary using list comprehension(without using zip method)\n",
    "list1 = [1,2,3,4,5,6,7,8]\n",
    "list2 = [\"a\",\"b\",\"c\",\"d\",\"e\"]"
   ]
  },
  {
   "cell_type": "markdown",
   "metadata": {},
   "source": [
    "## Without list comprehension"
   ]
  },
  {
   "cell_type": "code",
   "execution_count": 1,
   "metadata": {},
   "outputs": [
    {
     "name": "stdout",
     "output_type": "stream",
     "text": [
      "the original list 1 is [1, 2, 3, 4, 5, 6, 7, 8]\n",
      "the originbal list 2 is ['a', 'b', 'c', 'd', 'e']\n",
      "the resultant dictionary is {1: 'a', 2: 'b', 3: 'c', 4: 'd', 5: 'e'}\n"
     ]
    }
   ],
   "source": [
    "list1 = [1,2,3,4,5,6,7,8]\n",
    "list2 = [\"a\",\"b\",\"c\",\"d\",\"e\"]\n",
    "print(\"the original list 1 is\", list1)\n",
    "print(\"the originbal list 2 is\", list2)\n",
    "res = {}\n",
    "\n",
    "for key in list1:\n",
    "    for value in list2:\n",
    "        res[key] = value\n",
    "        list2.remove(value)\n",
    "        break\n",
    "print(\"the resultant dictionary is\", res)\n"
   ]
  },
  {
   "cell_type": "markdown",
   "metadata": {},
   "source": [
    "# With list comprehension"
   ]
  },
  {
   "cell_type": "code",
   "execution_count": 11,
   "metadata": {},
   "outputs": [
    {
     "name": "stdout",
     "output_type": "stream",
     "text": [
      "the original list 1 is [1, 2, 3, 4, 5]\n",
      "the originbal list 2 is ['a', 'b', 'c', 'd', 'e']\n",
      "the resultant dictionary is {1: 'a', 2: 'b', 3: 'c', 4: 'd', 5: 'e'}\n"
     ]
    }
   ],
   "source": [
    "list1 = [1,2,3,4,5]\n",
    "list2 = [\"a\",\"b\",\"c\",\"d\",\"e\"]\n",
    "print(\"the original list 1 is\", list1)\n",
    "print(\"the originbal list 2 is\", list2)\n",
    "res = {list1[i]: list2[i] for i in range(len(list1))}\n",
    "\n",
    "print(\"the resultant dictionary is\", res)"
   ]
  }
 ],
 "metadata": {
  "kernelspec": {
   "display_name": "Python 3",
   "language": "python",
   "name": "python3"
  },
  "language_info": {
   "codemirror_mode": {
    "name": "ipython",
    "version": 3
   },
   "file_extension": ".py",
   "mimetype": "text/x-python",
   "name": "python",
   "nbconvert_exporter": "python",
   "pygments_lexer": "ipython3",
   "version": "3.7.6"
  }
 },
 "nbformat": 4,
 "nbformat_minor": 4
}
