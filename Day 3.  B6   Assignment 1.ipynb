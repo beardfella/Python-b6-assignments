{
 "cells": [
  {
   "cell_type": "code",
   "execution_count": 1,
   "metadata": {},
   "outputs": [
    {
     "name": "stdout",
     "output_type": "stream",
     "text": [
      "enter the nth natural number for sum15\n",
      "the sum of first 15 natural number is  120\n"
     ]
    }
   ],
   "source": [
    "num = int(input(\"enter the nth natural number for sum\"))\n",
    "a = num\n",
    "sum = 0\n",
    "\n",
    "if num < 0 :\n",
    "    print(\"enter valid input\")\n",
    "else :\n",
    "    while num > 0 :\n",
    "        sum = sum + num\n",
    "        num = num - 1\n",
    "print(\"the sum of first\", a, \"natural number is \", sum)"
   ]
  },
  {
   "cell_type": "code",
   "execution_count": null,
   "metadata": {},
   "outputs": [],
   "source": []
  }
 ],
 "metadata": {
  "kernelspec": {
   "display_name": "Python 3",
   "language": "python",
   "name": "python3"
  },
  "language_info": {
   "codemirror_mode": {
    "name": "ipython",
    "version": 3
   },
   "file_extension": ".py",
   "mimetype": "text/x-python",
   "name": "python",
   "nbconvert_exporter": "python",
   "pygments_lexer": "ipython3",
   "version": "3.7.6"
  }
 },
 "nbformat": 4,
 "nbformat_minor": 4
}
