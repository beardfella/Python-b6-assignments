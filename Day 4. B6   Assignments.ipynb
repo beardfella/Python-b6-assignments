{
 "cells": [
  {
   "cell_type": "markdown",
   "metadata": {},
   "source": [
    "# ASSIGNMENT 1\n"
   ]
  },
  {
   "cell_type": "markdown",
   "metadata": {},
   "source": [
    "## Find all occurence of substring in the given string"
   ]
  },
  {
   "cell_type": "code",
   "execution_count": 23,
   "metadata": {},
   "outputs": [
    {
     "name": "stdout",
     "output_type": "stream",
     "text": [
      "enter the main stringwhat we think we become; we are python programers\n",
      "enter the substringwe\n",
      "the main string is what we think we become; we are python programers\n",
      "the substring is we\n",
      "resultant positions [5, 14, 25]\n",
      "the main string is what we think we become; we are python programers\n",
      "the substring is we\n",
      "resultant positions [5, 14, 25]\n"
     ]
    }
   ],
   "source": [
    "a = input(\"enter the main string\")\n",
    "b = input(\"enter the substring\")\n",
    "print(\"the main string is\", a)\n",
    "print(\"the substring is\", b)\n",
    "res = [] \n",
    "res = [i for i in range(len(a))  \n",
    "       if a.startswith(b, i)]\n",
    "print (\"resultant positions\", str(res)) "
   ]
  },
  {
   "cell_type": "markdown",
   "metadata": {},
   "source": [
    "# ASSIGNMENT 2\n"
   ]
  },
  {
   "cell_type": "code",
   "execution_count": 22,
   "metadata": {
    "scrolled": true
   },
   "outputs": [
    {
     "name": "stdout",
     "output_type": "stream",
     "text": [
      "True\n",
      "True\n"
     ]
    }
   ],
   "source": [
    "test2 = \"india is the best\"\n",
    "print(test2.islower())"
   ]
  },
  {
   "cell_type": "code",
   "execution_count": 1,
   "metadata": {},
   "outputs": [
    {
     "name": "stdout",
     "output_type": "stream",
     "text": [
      "True\n"
     ]
    }
   ],
   "source": [
    "test1 = \"INDIA IS THE BEST\"\n",
    "print(test1.isupper())"
   ]
  },
  {
   "cell_type": "code",
   "execution_count": 2,
   "metadata": {},
   "outputs": [
    {
     "name": "stdout",
     "output_type": "stream",
     "text": [
      "False\n"
     ]
    }
   ],
   "source": [
    "test2 = \"india is the best\"\n",
    "print(test2.isupper())"
   ]
  },
  {
   "cell_type": "code",
   "execution_count": null,
   "metadata": {},
   "outputs": [],
   "source": []
  }
 ],
 "metadata": {
  "kernelspec": {
   "display_name": "Python 3",
   "language": "python",
   "name": "python3"
  },
  "language_info": {
   "codemirror_mode": {
    "name": "ipython",
    "version": 3
   },
   "file_extension": ".py",
   "mimetype": "text/x-python",
   "name": "python",
   "nbconvert_exporter": "python",
   "pygments_lexer": "ipython3",
   "version": "3.7.6"
  }
 },
 "nbformat": 4,
 "nbformat_minor": 4
}
